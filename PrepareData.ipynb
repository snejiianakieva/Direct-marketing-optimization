{
 "cells": [
  {
   "cell_type": "code",
   "execution_count": 4,
   "metadata": {},
   "outputs": [],
   "source": [
    "import pandas as pd\n",
    "from pandas import read_excel\n",
    "\n",
    "file_name = 'Task_IPADeveloper_Dataset.xlsx' \n",
    "sheet = 'Soc_Dem' \n",
    "soc_dem = read_excel(file_name, sheet_name = sheet)\n",
    "soc_dem.replace({\"M\": 0, \"F\": 1}, inplace=True)\n",
    "\n",
    "sheet = 'Products_ActBalance' \n",
    "products = read_excel(file_name, sheet_name = sheet)\n",
    "data = soc_dem.merge(products, how=\"outer\", on=\"Client\")\n",
    "\n",
    "sheet = 'Inflow_Outflow' \n",
    "inOut = read_excel(file_name, sheet_name = sheet)\n",
    "data = data.merge(inOut, how=\"outer\", on=\"Client\")\n",
    "\n",
    "sheet = 'Sales_Revenues' \n",
    "sales = read_excel(file_name, sheet_name = sheet)\n",
    "target_data = data.merge(sales, how=\"outer\", on=\"Client\")\n",
    "target_data = target_data.sort_values('Client')\n",
    "\n",
    "target_data.to_excel(\"target_data.xlsx\", index=False)\n",
    "\n",
    "training_data = data.merge(sales, how=\"inner\", on=\"Client\")\n",
    "training_data = training_data.sort_values('Client')\n",
    "\n",
    "training_data.to_excel(\"training_data.xlsx\", index=False)"
   ]
  },
  {
   "cell_type": "code",
   "execution_count": null,
   "metadata": {},
   "outputs": [],
   "source": []
  }
 ],
 "metadata": {
  "kernelspec": {
   "display_name": "Python 3",
   "language": "python",
   "name": "python3"
  },
  "language_info": {
   "codemirror_mode": {
    "name": "ipython",
    "version": 3
   },
   "file_extension": ".py",
   "mimetype": "text/x-python",
   "name": "python",
   "nbconvert_exporter": "python",
   "pygments_lexer": "ipython3",
   "version": "3.7.3"
  }
 },
 "nbformat": 4,
 "nbformat_minor": 2
}
