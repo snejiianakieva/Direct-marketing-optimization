{
 "cells": [
  {
   "cell_type": "code",
   "execution_count": 1,
   "metadata": {},
   "outputs": [
    {
     "name": "stderr",
     "output_type": "stream",
     "text": [
      "/home/syanakieva/anaconda3/lib/python3.7/site-packages/pandas/compat/_optional.py:138: UserWarning: Pandas requires version '2.7.0' or newer of 'numexpr' (version '2.6.9' currently installed).\n",
      "  warnings.warn(msg, UserWarning)\n"
     ]
    },
    {
     "name": "stdout",
     "output_type": "stream",
     "text": [
      "     Client  Sex  Age  Tenure  Count_CA  Count_SA  Count_MF  Count_OVD  \\\n",
      "8        20  0.0   27     181         1       1.0       0.0        0.0   \n",
      "9        21  1.0   24      60         1       1.0       0.0        0.0   \n",
      "10       22  0.0   54       0         1       0.0       0.0        0.0   \n",
      "14       29  1.0   60     150         1       0.0       0.0        1.0   \n",
      "16       33  0.0   71     150         1       0.0       0.0        0.0   \n",
      "..      ...  ...  ...     ...       ...       ...       ...        ...   \n",
      "927    1554  1.0   46     150         1       0.0       0.0        0.0   \n",
      "938    1568  1.0   40      17         1       0.0       0.0        0.0   \n",
      "940    1571  0.0   39     211         1       0.0       0.0        0.0   \n",
      "942    1573  1.0   69     181         1       1.0       0.0        1.0   \n",
      "960    1600  1.0   44     200         1       1.0       0.0        1.0   \n",
      "\n",
      "     Count_CC  Count_CL  ...  TransactionsDeb_CA  TransactionsDebCash_Card  \\\n",
      "8         0.0       0.0  ...                 7.0                       3.0   \n",
      "9         0.0       0.0  ...                22.0                       4.0   \n",
      "10        0.0       0.0  ...                29.0                       4.0   \n",
      "14        0.0       0.0  ...                 4.0                       1.0   \n",
      "16        0.0       0.0  ...                13.0                       2.0   \n",
      "..        ...       ...  ...                 ...                       ...   \n",
      "927       0.0       0.0  ...                10.0                       3.0   \n",
      "938       0.0       0.0  ...                 9.0                       2.0   \n",
      "940       0.0       0.0  ...                 2.0                       0.0   \n",
      "942       1.0       0.0  ...                19.0                       6.0   \n",
      "960       0.0       0.0  ...                11.0                       2.0   \n",
      "\n",
      "     TransactionsDebCashless_Card  TransactionsDeb_PaymentOrder  Sale_MF  \\\n",
      "8                             1.0                           3.0        0   \n",
      "9                            14.0                           3.0        0   \n",
      "10                           12.0                           9.0        0   \n",
      "14                            0.0                           1.0        0   \n",
      "16                            4.0                           6.0        0   \n",
      "..                            ...                           ...      ...   \n",
      "927                           4.0                           2.0        0   \n",
      "938                           4.0                           2.0        0   \n",
      "940                           0.0                           0.0        1   \n",
      "942                          18.0                           8.0        0   \n",
      "960                           2.0                           1.0        0   \n",
      "\n",
      "     Sale_CC  Sale_CL  Revenue_MF  Revenue_CC  Revenue_CL  \n",
      "8          1        0     0.00000    3.822500    0.000000  \n",
      "9          1        0     0.00000    3.607143    0.000000  \n",
      "10         1        1     0.00000    1.107143   30.560357  \n",
      "14         1        0     0.00000    4.286786    0.000000  \n",
      "16         1        1     0.00000    3.250000   14.989643  \n",
      "..       ...      ...         ...         ...         ...  \n",
      "927        1        0     0.00000    2.138571    0.000000  \n",
      "938        1        0     0.00000    3.071429    0.000000  \n",
      "940        1        0     3.45375    4.571429    0.000000  \n",
      "942        1        0     0.00000    5.142857    0.000000  \n",
      "960        1        1     0.00000    3.928571    9.214286  \n",
      "\n",
      "[242 rows x 36 columns]\n"
     ]
    }
   ],
   "source": [
    "import pandas as pd\n",
    "from pandas import read_excel\n",
    "\n",
    "file_name = 'training_data.xlsx' \n",
    "training_data = read_excel(file_name)\n",
    "training_data = training_data.fillna(0)\n",
    "training_data=training_data.drop(training_data[training_data.Sale_CC != 1].index)\n",
    "print(training_data)"
   ]
  },
  {
   "cell_type": "code",
   "execution_count": 2,
   "metadata": {},
   "outputs": [
    {
     "name": "stdout",
     "output_type": "stream",
     "text": [
      "     Revenue_CC\n",
      "8      3.822500\n",
      "9      3.607143\n",
      "10     1.107143\n",
      "14     4.286786\n",
      "16     3.250000\n",
      "..          ...\n",
      "927    2.138571\n",
      "938    3.071429\n",
      "940    4.571429\n",
      "942    5.142857\n",
      "960    3.928571\n",
      "\n",
      "[242 rows x 1 columns]\n"
     ]
    }
   ],
   "source": [
    "feature_cols = list(training_data.columns[1:-6])\n",
    "target_cols = list(training_data.columns[-2:-1])\n",
    "\n",
    "X_all = training_data[feature_cols]\n",
    "Y_all = training_data[target_cols]\n",
    "print(Y_all)"
   ]
  },
  {
   "cell_type": "code",
   "execution_count": 3,
   "metadata": {},
   "outputs": [
    {
     "name": "stdout",
     "output_type": "stream",
     "text": [
      "145\n",
      "97\n"
     ]
    }
   ],
   "source": [
    "from sklearn.model_selection import train_test_split\n",
    "3\n",
    "X_train, X_test, Y_train, Y_test = train_test_split(X_all, Y_all, test_size=0.4, random_state=42)\n",
    "print(X_train.shape[0])\n",
    "print(X_test.shape[0])"
   ]
  },
  {
   "cell_type": "code",
   "execution_count": 4,
   "metadata": {},
   "outputs": [
    {
     "name": "stdout",
     "output_type": "stream",
     "text": [
      "20.050691542738363\n"
     ]
    }
   ],
   "source": [
    "from sklearn.metrics import mean_absolute_error\n",
    "from sklearn import linear_model\n",
    "\n",
    "model = linear_model.LinearRegression()\n",
    "model.fit(X_train, Y_train)\n",
    "\n",
    "Y_predict = model.predict(X_test)\n",
    "\n",
    "mean_absolute_error = mean_absolute_error(Y_test, Y_predict)\n",
    "print(mean_absolute_error)"
   ]
  },
  {
   "cell_type": "code",
   "execution_count": 5,
   "metadata": {},
   "outputs": [
    {
     "name": "stdout",
     "output_type": "stream",
     "text": [
      "[21.98765913]\n"
     ]
    },
    {
     "name": "stderr",
     "output_type": "stream",
     "text": [
      "/home/syanakieva/anaconda3/lib/python3.7/site-packages/ipykernel_launcher.py:6: DataConversionWarning: A column-vector y was passed when a 1d array was expected. Please change the shape of y to (n_samples,), for example using ravel().\n",
      "  \n"
     ]
    }
   ],
   "source": [
    "from sklearn.ensemble import RandomForestRegressor\n",
    "from sklearn.metrics import mean_absolute_error\n",
    "import pickle\n",
    "\n",
    "model = RandomForestRegressor()\n",
    "model.fit(X_train, Y_train)\n",
    "y_true = Y_test\n",
    "y_pred = model.predict(X_test)\n",
    "\n",
    "mean_absolute_error = mean_absolute_error(y_true, y_pred, multioutput='raw_values')\n",
    "print(mean_absolute_error)\n"
   ]
  },
  {
   "cell_type": "code",
   "execution_count": 6,
   "metadata": {},
   "outputs": [
    {
     "name": "stdout",
     "output_type": "stream",
     "text": [
      "4.935996939192035\n"
     ]
    },
    {
     "name": "stderr",
     "output_type": "stream",
     "text": [
      "/home/syanakieva/anaconda3/lib/python3.7/site-packages/sklearn/utils/validation.py:63: DataConversionWarning: A column-vector y was passed when a 1d array was expected. Please change the shape of y to (n_samples, ), for example using ravel().\n",
      "  return f(*args, **kwargs)\n"
     ]
    }
   ],
   "source": [
    "from sklearn.svm import SVR\n",
    "from sklearn.metrics import mean_absolute_error\n",
    "\n",
    "model = SVR()\n",
    "model.fit(X_train, Y_train)\n",
    "\n",
    "Y_predict = model.predict(X_test)\n",
    "\n",
    "mean_absolute_error = mean_absolute_error(Y_test, Y_predict)\n",
    "print(mean_absolute_error)"
   ]
  },
  {
   "cell_type": "code",
   "execution_count": 7,
   "metadata": {},
   "outputs": [
    {
     "name": "stdout",
     "output_type": "stream",
     "text": [
      "229.31634464186865\n"
     ]
    },
    {
     "name": "stderr",
     "output_type": "stream",
     "text": [
      "/home/syanakieva/anaconda3/lib/python3.7/site-packages/sklearn/utils/validation.py:63: DataConversionWarning: A column-vector y was passed when a 1d array was expected. Please change the shape of y to (n_samples, ), for example using ravel().\n",
      "  return f(*args, **kwargs)\n"
     ]
    }
   ],
   "source": [
    "from sklearn.neural_network import MLPRegressor\n",
    "from sklearn.metrics import mean_absolute_error\n",
    "\n",
    "model = MLPRegressor()\n",
    "model.fit(X_train, Y_train)\n",
    "\n",
    "Y_predict = model.predict(X_test)\n",
    "\n",
    "mean_absolute_error = mean_absolute_error(Y_test, Y_predict)\n",
    "print(mean_absolute_error)"
   ]
  },
  {
   "cell_type": "code",
   "execution_count": 9,
   "metadata": {},
   "outputs": [
    {
     "name": "stderr",
     "output_type": "stream",
     "text": [
      "/home/syanakieva/anaconda3/lib/python3.7/site-packages/sklearn/utils/validation.py:63: DataConversionWarning: A column-vector y was passed when a 1d array was expected. Please change the shape of y to (n_samples, ), for example using ravel().\n",
      "  return f(*args, **kwargs)\n"
     ]
    }
   ],
   "source": [
    "from sklearn.svm import SVR\n",
    "model = SVR()\n",
    "model.fit(X_all, Y_all)\n",
    "\n",
    "filename = \"ccRegressionmodel.pkl\"\n",
    "pickle.dump(model, open(filename, \"wb\"))"
   ]
  },
  {
   "cell_type": "code",
   "execution_count": null,
   "metadata": {},
   "outputs": [],
   "source": []
  }
 ],
 "metadata": {
  "kernelspec": {
   "display_name": "Python 3",
   "language": "python",
   "name": "python3"
  },
  "language_info": {
   "codemirror_mode": {
    "name": "ipython",
    "version": 3
   },
   "file_extension": ".py",
   "mimetype": "text/x-python",
   "name": "python",
   "nbconvert_exporter": "python",
   "pygments_lexer": "ipython3",
   "version": "3.7.3"
  }
 },
 "nbformat": 4,
 "nbformat_minor": 2
}
