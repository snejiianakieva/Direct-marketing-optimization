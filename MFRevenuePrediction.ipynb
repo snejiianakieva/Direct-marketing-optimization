{
 "cells": [
  {
   "cell_type": "code",
   "execution_count": 2,
   "metadata": {},
   "outputs": [
    {
     "name": "stderr",
     "output_type": "stream",
     "text": [
      "/home/syanakieva/anaconda3/lib/python3.7/site-packages/pandas/compat/_optional.py:138: UserWarning: Pandas requires version '2.7.0' or newer of 'numexpr' (version '2.6.9' currently installed).\n",
      "  warnings.warn(msg, UserWarning)\n"
     ]
    }
   ],
   "source": [
    "import pandas as pd\n",
    "from pandas import read_excel\n",
    "\n",
    "file_name = 'mf_sales_prediction.xlsx' \n",
    "target_data = read_excel(file_name)\n",
    "target_data = target_data.fillna(0)"
   ]
  },
  {
   "cell_type": "code",
   "execution_count": 3,
   "metadata": {},
   "outputs": [
    {
     "name": "stdout",
     "output_type": "stream",
     "text": [
      "     Sex  Age  Tenure  Count_CA  Count_SA  Count_MF  Count_OVD  Count_CC  \\\n",
      "0      1   51       7         1         0         0          1         0   \n",
      "1      0   62     181         1         0         0          1         0   \n",
      "2      1   48     104         1         1         3          1         1   \n",
      "3      1   49     263         1         1         2          0         0   \n",
      "4      0   23       4         1         0        12          0         0   \n",
      "..   ...  ...     ...       ...       ...       ...        ...       ...   \n",
      "202    1   29     175         1         0         0          1         0   \n",
      "203    1    3     152         1         3        32          0         0   \n",
      "204    0   39     211         1         0         0          0         0   \n",
      "205    1   28     221         1         0         0          0         0   \n",
      "206    0   46      45         1         0         0          0         0   \n",
      "\n",
      "     Count_CL     ActBal_CA  ...    VolumeDeb  VolumeDeb_CA  \\\n",
      "0           0   1333.802857  ...  1891.353214   1335.619643   \n",
      "1           0   1649.980000  ...   425.000000     67.857143   \n",
      "2           0    188.608571  ...  8458.406429   7683.438214   \n",
      "3           0     60.997857  ...     0.000000      0.000000   \n",
      "4           0    875.371429  ...   546.642857    546.642857   \n",
      "..        ...           ...  ...          ...           ...   \n",
      "202         0     45.097857  ...   701.659643    506.002857   \n",
      "203         0  14341.997857  ...   596.742857    596.742857   \n",
      "204         0  23635.800000  ...     2.678571      2.678571   \n",
      "205         0    816.056429  ...     0.000000      0.000000   \n",
      "206         0    676.008571  ...  1283.518929   1283.518929   \n",
      "\n",
      "     VolumeDebCash_Card  VolumeDebCashless_Card  VolumeDeb_PaymentOrder  \\\n",
      "0            250.000000              283.089286              247.607143   \n",
      "1              0.000000                0.000000                0.000000   \n",
      "2           1107.142857              844.575357             5775.094286   \n",
      "3              0.000000                0.000000                0.000000   \n",
      "4            178.571429               68.535714              296.071429   \n",
      "..                  ...                     ...                     ...   \n",
      "202          139.285714              122.081786               83.928571   \n",
      "203            0.000000              422.350000              171.000000   \n",
      "204            0.000000                0.000000                0.000000   \n",
      "205            0.000000                0.000000                0.000000   \n",
      "206          142.857143              144.022500              353.000000   \n",
      "\n",
      "     TransactionsDeb  TransactionsDeb_CA  TransactionsDebCash_Card  \\\n",
      "0                 50                  30                         3   \n",
      "1                  2                   1                         0   \n",
      "2                 54                  19                         6   \n",
      "3                  0                   0                         0   \n",
      "4                  9                   9                         1   \n",
      "..               ...                 ...                       ...   \n",
      "202               41                  27                         6   \n",
      "203               20                  20                         0   \n",
      "204                2                   2                         0   \n",
      "205                0                   0                         0   \n",
      "206               25                  25                         2   \n",
      "\n",
      "     TransactionsDebCashless_Card  TransactionsDeb_PaymentOrder  \n",
      "0                              12                             9  \n",
      "1                               0                             0  \n",
      "2                              33                            11  \n",
      "3                               0                             0  \n",
      "4                               1                             6  \n",
      "..                            ...                           ...  \n",
      "202                            14                             1  \n",
      "203                            13                             6  \n",
      "204                             0                             0  \n",
      "205                             0                             0  \n",
      "206                            12                             8  \n",
      "\n",
      "[207 rows x 29 columns]\n"
     ]
    }
   ],
   "source": [
    "feature_cols = list(target_data.columns[1:-1])\n",
    "\n",
    "X_all = target_data[feature_cols]\n",
    "print(X_all)"
   ]
  },
  {
   "cell_type": "code",
   "execution_count": 4,
   "metadata": {},
   "outputs": [
    {
     "name": "stdout",
     "output_type": "stream",
     "text": [
      "207\n",
      "     Client  mf_revenue_prediction\n",
      "0         1               3.063257\n",
      "1        27               3.177270\n",
      "2        34               3.405843\n",
      "3        36               3.085833\n",
      "4        42               3.046216\n",
      "..      ...                    ...\n",
      "202    1564               3.036735\n",
      "203    1569               2.980433\n",
      "204    1571               3.400248\n",
      "205    1585               3.039522\n",
      "206    1613               3.054532\n",
      "\n",
      "[207 rows x 2 columns]\n"
     ]
    }
   ],
   "source": [
    "from sklearn.svm import SVR\n",
    "import pickle\n",
    "\n",
    "clmodel = pickle.load(open('mfRegressionmodel.pkl', 'rb'))\n",
    "\n",
    "prediction = clmodel.predict(X_all)\n",
    "result = target_data.copy()\n",
    "result[\"mf_revenue_prediction\"] = prediction\n",
    "result=result[[\"Client\", \"mf_revenue_prediction\"]]\n",
    "print(result.shape[0])\n",
    "print(result[:1000])\n",
    "result = result.sort_values(\"mf_revenue_prediction\", ascending=False)\n",
    "result.to_excel(\"mf_revenue_prediction.xlsx\", index=False)"
   ]
  },
  {
   "cell_type": "code",
   "execution_count": null,
   "metadata": {},
   "outputs": [],
   "source": []
  }
 ],
 "metadata": {
  "kernelspec": {
   "display_name": "Python 3",
   "language": "python",
   "name": "python3"
  },
  "language_info": {
   "codemirror_mode": {
    "name": "ipython",
    "version": 3
   },
   "file_extension": ".py",
   "mimetype": "text/x-python",
   "name": "python",
   "nbconvert_exporter": "python",
   "pygments_lexer": "ipython3",
   "version": "3.7.3"
  }
 },
 "nbformat": 4,
 "nbformat_minor": 2
}
