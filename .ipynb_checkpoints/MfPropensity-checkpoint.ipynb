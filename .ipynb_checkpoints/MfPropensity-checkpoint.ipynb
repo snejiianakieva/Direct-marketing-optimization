{
 "cells": [
  {
   "cell_type": "code",
   "execution_count": 7,
   "metadata": {},
   "outputs": [
    {
     "name": "stdout",
     "output_type": "stream",
     "text": [
      "Requirement already satisfied: cycler==0.10.0 in /home/syanakieva/anaconda3/lib/python3.7/site-packages (from -r requirements.txt (line 7)) (0.10.0)\n",
      "Requirement already satisfied: kiwisolver==1.2.0 in /home/syanakieva/anaconda3/lib/python3.7/site-packages (from -r requirements.txt (line 8)) (1.2.0)\n",
      "Requirement already satisfied: matplotlib==3.2.1 in /home/syanakieva/anaconda3/lib/python3.7/site-packages (from -r requirements.txt (line 9)) (3.2.1)\n",
      "Requirement already satisfied: numpy==1.18.5 in /home/syanakieva/anaconda3/lib/python3.7/site-packages (from -r requirements.txt (line 10)) (1.18.5)\n",
      "Requirement already satisfied: pandas>=1.0.4 in /home/syanakieva/anaconda3/lib/python3.7/site-packages (from -r requirements.txt (line 11)) (1.3.0)\n",
      "Requirement already satisfied: pyparsing==2.4.7 in /home/syanakieva/anaconda3/lib/python3.7/site-packages (from -r requirements.txt (line 12)) (2.4.7)\n",
      "Requirement already satisfied: python-dateutil==2.8.1 in /home/syanakieva/anaconda3/lib/python3.7/site-packages (from -r requirements.txt (line 13)) (2.8.1)\n",
      "Requirement already satisfied: pytz==2020.1 in /home/syanakieva/anaconda3/lib/python3.7/site-packages (from -r requirements.txt (line 14)) (2020.1)\n",
      "Requirement already satisfied: scipy==1.4.1 in /home/syanakieva/anaconda3/lib/python3.7/site-packages (from -r requirements.txt (line 15)) (1.4.1)\n",
      "Requirement already satisfied: seaborn==0.10.1 in /home/syanakieva/anaconda3/lib/python3.7/site-packages (from -r requirements.txt (line 16)) (0.10.1)\n",
      "Requirement already satisfied: six==1.15.0 in /home/syanakieva/anaconda3/lib/python3.7/site-packages (from -r requirements.txt (line 17)) (1.15.0)\n",
      "Requirement already satisfied: openpyxl==3.0.7 in /home/syanakieva/anaconda3/lib/python3.7/site-packages (from -r requirements.txt (line 18)) (3.0.7)\n",
      "Requirement already satisfied: scikit-learn==0.24.2 in /home/syanakieva/anaconda3/lib/python3.7/site-packages (from -r requirements.txt (line 19)) (0.24.2)\n",
      "Requirement already satisfied: joblib==1.0.1 in /home/syanakieva/anaconda3/lib/python3.7/site-packages (from -r requirements.txt (line 20)) (1.0.1)\n",
      "Requirement already satisfied: et-xmlfile in /home/syanakieva/anaconda3/lib/python3.7/site-packages (from openpyxl==3.0.7->-r requirements.txt (line 18)) (1.0.1)\n",
      "Requirement already satisfied: threadpoolctl>=2.0.0 in /home/syanakieva/anaconda3/lib/python3.7/site-packages (from scikit-learn==0.24.2->-r requirements.txt (line 19)) (2.1.0)\n",
      "Note: you may need to restart the kernel to use updated packages.\n"
     ]
    }
   ],
   "source": [
    "pip install -r requirements.txt"
   ]
  },
  {
   "cell_type": "code",
   "execution_count": 1,
   "metadata": {},
   "outputs": [
    {
     "name": "stderr",
     "output_type": "stream",
     "text": [
      "/home/syanakieva/anaconda3/lib/python3.7/site-packages/pandas/compat/_optional.py:138: UserWarning: Pandas requires version '2.7.0' or newer of 'numexpr' (version '2.6.9' currently installed).\n",
      "  warnings.warn(msg, UserWarning)\n"
     ]
    }
   ],
   "source": [
    "import pandas as pd\n",
    "from pandas import read_excel\n",
    "\n",
    "file_name = 'target_data.xlsx' \n",
    "target_data = read_excel(file_name)\n",
    "target_data = target_data.fillna(0)"
   ]
  },
  {
   "cell_type": "code",
   "execution_count": 2,
   "metadata": {},
   "outputs": [],
   "source": [
    "feature_cols = list(target_data.columns[:-6])\n",
    "target_cols = list(target_data.columns[-6:-5])\n",
    "\n",
    "X_all = target_data[feature_cols]"
   ]
  },
  {
   "cell_type": "code",
   "execution_count": 7,
   "metadata": {},
   "outputs": [
    {
     "name": "stdout",
     "output_type": "stream",
     "text": [
      "[0 0 0 0 0 0 0 0 0 0 0 0 0 0 0 0 0 0 0 0 0 0 0 0 0 0 1 0 0 0 0 0 0 1 0 1 0\n",
      " 0 0 0 0 0 0 0 0 0 0 0 0 0 0 0 0 0 0 0 0 0 0 0 0 0 0 0 0 0 0 0 0 0 0 0 0 0\n",
      " 1 0 0 0 0 0 0 0 0 0 0 1 0 0 0 0 0 0 0 0 0 0 0 0 0 0 0 1 0 0 0 0 0 0 0 0 0\n",
      " 0 0 0 0 0 0 0 0 0 0 0 0 0 0 0 1 0 0 0 0 0 0 0 0 0 0 0 0 0 0 0 1 0 0 0 0 1\n",
      " 0 0 0 0 0 1 0 0 0 0 0 0 0 0 0 0 0 0 0 0 0 0 0 0 0 0 0 0 0 0 0 0 0 1 0 0 1\n",
      " 0 0 0 0 0 0 0 0 0 0 0 0 0 0 0 0 0 0 0 0 0 0 0 1 0 0 0 0 0 0 0 0 0 0 0 0 0\n",
      " 0 0 0 0 0 0 0 0 0 0 0 0 0 0 0 0 0 0 0 0 0 0 0 0 0 0 0 0 0 0 0 0 0 0 0 0 0\n",
      " 0 0 0 0 0 0 0 0 0 0 0 0 0 0 0 0 0 0 1 0 0 0 0 0 0 0 0 1 0 0 0 0 1 0 1 0 0\n",
      " 0 0 0 0 0 0 0 0 0 0 0 0 0 0 0 0 0 0 0 0 0 0 0 0 0 0 1 0 0 0 0 0 0 0 0 0 0\n",
      " 0 0 0 0 0 0 0 0 0 0 0 0 0 0 0 1 0 0 0 0 0 0 0 0 0 0 0 0 0 0 0 0 0 0 0 0 0\n",
      " 0 0 0 0 0 0 0 0 0 0 0 0 0 0 0 0 0 0 0 1 0 0 0 0 0 0 0 1 0 0 0 0 0 0 0 0 0\n",
      " 0 0 0 0 0 0 0 0 1 0 0 0 0 0 0 0 0 0 0 0 0 0 0 0 0 0 0 0 0 1 0 0 0 0 0 0 0\n",
      " 1 0 0 1 0 0 0 0 0 0 0 0 0 0 0 0 0 0 0 0 0 0 0 0 0 0 0 0 0 0 0 0 0 1 0 0 0\n",
      " 0 0 0 0 0 0 0 0 0 0 0 0 0 0 0 0 0 1 0 0 0 0 0 0 0 0 0 0 1 0 0 0 0 0 0 0 0\n",
      " 0 0 0 0 0 0 1 0 0 0 0 0 0 0 1 0 0 0 0 0 0 0 0 0 0 1 0 0 1 0 0 0 0 0 0 0 0\n",
      " 0 1 0 0 0 0 0 0 0 0 0 0 0 0 0 0 0 0 0 0 0 0 1 0 0 0 0 0 0 0 0 0 0 0 0 1 0\n",
      " 0 0 0 0 0 1 0 0 0 0 0 1 0 0 0 1 0 0 0 0 0 0 0 0 0 0 0 0 0 0 0 0 0 0 0 0 0\n",
      " 0 0 1 0 0 0 0 0 0 1 0 0 0 0 0 0 0 0 1 0 0 0 0 0 0 0 0 0 0 0 0 0 0 0 0 0 0\n",
      " 0 1 0 0 0 0 1 0 1 0 0 0 0 0 0 0 1 0 0 0 0 0 0 0 0 0 1 0 0 0 0 0 0 1 0 0 0\n",
      " 0 0 0 0 0 0 0 0 0 0 0 0 0 0 0 0 0 0 0 0 0 1 0 0 0 0 0 0 0 0 0 1 0 0 0 0 0\n",
      " 0 0 0 0 0 0 1 0 0 0 0 0 0 0 0 0 0 0 0 0 0 0 0 0 0 1 0 0 0 1 0 0 0 0 0 0 0\n",
      " 0 0 1 0 0 0 0 0 0 0 0 0 0 0 1 0 0 0 1 0 0 0 0 1 0 0 0 0 0 0 0 0 0 0 0 0 0\n",
      " 0 0 0 0 0 0 0 0 0 0 0 0 0 0 0 0 1 0 0 0 0 0 0 0 0 0 0 0 0 0 0 0 0 0 0 0 0\n",
      " 0 0 0 0 0 0 0 0 0 0 0 0 1 0 0 0 0 0 0 0 1 0 0 0 0 0 0 0 0 0 0 1 0 0 0 0 0\n",
      " 0 0 0 0 0 0 0 0 0 0 0 0 1 0 0 0 1 0 1 0 0 0 1 0 0 0 0 0 0 0 0 0 0 0 0 0 0\n",
      " 0 0 0 0 0 0 0 0 0 0 0 0 0 1 0 0 0 0 1 0 0 0 0 0 0 0 0 0 0 0 0 0 0 0 0 0 0\n",
      " 0 0 0 0 0 0 0 0 0 0 0 0 0 0 0 0 0 0 0 0 0 0 0 0 0 0 0 0 0 0 0 0 0 0 0 0 0\n",
      " 0]\n"
     ]
    }
   ],
   "source": [
    "from sklearn.ensemble import RandomForestClassifier\n",
    "import pickle\n",
    "\n",
    "mfmodel = pickle.load(open('mfmodel.pkl', 'rb'))\n",
    "\n",
    "prediction = mfmodel.predict(X_all)\n",
    "print(prediction[:1000])"
   ]
  },
  {
   "cell_type": "code",
   "execution_count": null,
   "metadata": {},
   "outputs": [],
   "source": []
  }
 ],
 "metadata": {
  "kernelspec": {
   "display_name": "Python 3",
   "language": "python",
   "name": "python3"
  },
  "language_info": {
   "codemirror_mode": {
    "name": "ipython",
    "version": 3
   },
   "file_extension": ".py",
   "mimetype": "text/x-python",
   "name": "python",
   "nbconvert_exporter": "python",
   "pygments_lexer": "ipython3",
   "version": "3.7.3"
  }
 },
 "nbformat": 4,
 "nbformat_minor": 2
}
