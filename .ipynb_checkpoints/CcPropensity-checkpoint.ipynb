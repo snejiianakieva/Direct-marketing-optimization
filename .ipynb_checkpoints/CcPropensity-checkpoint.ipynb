{
 "cells": [
  {
   "cell_type": "code",
   "execution_count": 10,
   "metadata": {},
   "outputs": [],
   "source": [
    "import pandas as pd\n",
    "from pandas import read_excel\n",
    "\n",
    "file_name = 'target_data.xlsx' \n",
    "target_data = read_excel(file_name)\n",
    "target_data = target_data.fillna(0)"
   ]
  },
  {
   "cell_type": "code",
   "execution_count": 18,
   "metadata": {},
   "outputs": [],
   "source": [
    "feature_cols = list(target_data.columns[:-6])\n",
    "\n",
    "X_all = target_data[feature_cols]"
   ]
  },
  {
   "cell_type": "code",
   "execution_count": 21,
   "metadata": {},
   "outputs": [
    {
     "name": "stdout",
     "output_type": "stream",
     "text": [
      "114\n",
      "      Client  prediction\n",
      "26        27           1\n",
      "33        34           1\n",
      "35        36           1\n",
      "74        75           1\n",
      "101      102           1\n",
      "...      ...         ...\n",
      "1501    1502           1\n",
      "1535    1536           1\n",
      "1563    1564           1\n",
      "1570    1571           1\n",
      "1584    1585           1\n",
      "\n",
      "[114 rows x 2 columns]\n"
     ]
    },
    {
     "name": "stderr",
     "output_type": "stream",
     "text": [
      "/home/syanakieva/anaconda3/lib/python3.7/site-packages/pandas/core/frame.py:3607: SettingWithCopyWarning: \n",
      "A value is trying to be set on a copy of a slice from a DataFrame.\n",
      "Try using .loc[row_indexer,col_indexer] = value instead\n",
      "\n",
      "See the caveats in the documentation: https://pandas.pydata.org/pandas-docs/stable/user_guide/indexing.html#returning-a-view-versus-a-copy\n",
      "  self._set_item(key, value)\n"
     ]
    }
   ],
   "source": [
    "from sklearn.ensemble import RandomForestClassifier\n",
    "import pickle\n",
    "\n",
    "mfmodel = pickle.load(open('mfmodel.pkl', 'rb'))\n",
    "\n",
    "prediction = mfmodel.predict(X_all)\n",
    "result = X_all[[\"Client\"]]\n",
    "result[\"prediction\"] = prediction\n",
    "result = result[result.prediction == 1]\n",
    "print(result.shape[0])\n",
    "print(result[:1000])"
   ]
  },
  {
   "cell_type": "code",
   "execution_count": null,
   "metadata": {},
   "outputs": [],
   "source": []
  }
 ],
 "metadata": {
  "kernelspec": {
   "display_name": "Python 3",
   "language": "python",
   "name": "python3"
  },
  "language_info": {
   "codemirror_mode": {
    "name": "ipython",
    "version": 3
   },
   "file_extension": ".py",
   "mimetype": "text/x-python",
   "name": "python",
   "nbconvert_exporter": "python",
   "pygments_lexer": "ipython3",
   "version": "3.7.3"
  }
 },
 "nbformat": 4,
 "nbformat_minor": 2
}
