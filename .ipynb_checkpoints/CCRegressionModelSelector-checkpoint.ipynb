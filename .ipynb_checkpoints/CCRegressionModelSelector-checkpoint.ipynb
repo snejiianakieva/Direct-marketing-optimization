{
 "cells": [
  {
   "cell_type": "code",
   "execution_count": 40,
   "metadata": {},
   "outputs": [
    {
     "name": "stdout",
     "output_type": "stream",
     "text": [
      "     Client  Sex  Age  Tenure  Count_CA  Count_SA  Count_MF  Count_OVD  \\\n",
      "10       22  0.0   54       0         1       0.0       0.0        0.0   \n",
      "11       23  0.0    4     160         1       2.0       4.0        1.0   \n",
      "16       33  0.0   71     150         1       0.0       0.0        0.0   \n",
      "26       45  0.0   63      52         1       1.0       0.0        0.0   \n",
      "28       47  0.0   45     229         1       1.0       5.0        0.0   \n",
      "..      ...  ...  ...     ...       ...       ...       ...        ...   \n",
      "955    1591  1.0   10     170         1       0.0       0.0        1.0   \n",
      "956    1592  1.0   70      73         3       0.0       0.0        0.0   \n",
      "958    1595  0.0   11      53         1       0.0       0.0        0.0   \n",
      "959    1596  0.0   49      78         1       1.0       0.0        0.0   \n",
      "960    1600  1.0   44     200         1       1.0       0.0        1.0   \n",
      "\n",
      "     Count_CC  Count_CL  ...  TransactionsDeb_CA  TransactionsDebCash_Card  \\\n",
      "10        0.0       0.0  ...                29.0                       4.0   \n",
      "11        0.0       0.0  ...                33.0                       1.0   \n",
      "16        0.0       0.0  ...                13.0                       2.0   \n",
      "26        0.0       0.0  ...                 1.0                       0.0   \n",
      "28        0.0       0.0  ...                22.0                       0.0   \n",
      "..        ...       ...  ...                 ...                       ...   \n",
      "955       0.0       0.0  ...                 8.0                       0.0   \n",
      "956       0.0       0.0  ...                 1.0                       0.0   \n",
      "958       1.0       0.0  ...                 5.0                       0.0   \n",
      "959       0.0       0.0  ...                 1.0                       0.0   \n",
      "960       0.0       0.0  ...                11.0                       2.0   \n",
      "\n",
      "     TransactionsDebCashless_Card  TransactionsDeb_PaymentOrder  Sale_MF  \\\n",
      "10                           12.0                           9.0        0   \n",
      "11                           26.0                           6.0        0   \n",
      "16                            4.0                           6.0        0   \n",
      "26                            0.0                           0.0        0   \n",
      "28                            2.0                          19.0        0   \n",
      "..                            ...                           ...      ...   \n",
      "955                           0.0                           5.0        0   \n",
      "956                           0.0                           0.0        0   \n",
      "958                           0.0                           2.0        0   \n",
      "959                           0.0                           0.0        0   \n",
      "960                           2.0                           1.0        0   \n",
      "\n",
      "     Sale_CC  Sale_CL  Revenue_MF  Revenue_CC  Revenue_CL  \n",
      "10         1        1         0.0    1.107143   30.560357  \n",
      "11         0        1         0.0    0.000000    8.250000  \n",
      "16         1        1         0.0    3.250000   14.989643  \n",
      "26         1        1         0.0   15.393929    5.556786  \n",
      "28         0        1         0.0    0.000000    4.496071  \n",
      "..       ...      ...         ...         ...         ...  \n",
      "955        0        1         0.0    0.000000   18.535714  \n",
      "956        0        1         0.0    0.000000   12.500000  \n",
      "958        0        1         0.0    0.000000   16.142857  \n",
      "959        0        1         0.0    0.000000    9.821429  \n",
      "960        1        1         0.0    3.928571    9.214286  \n",
      "\n",
      "[290 rows x 36 columns]\n"
     ]
    }
   ],
   "source": [
    "import pandas as pd\n",
    "from pandas import read_excel\n",
    "\n",
    "file_name = 'training_data.xlsx' \n",
    "training_data = read_excel(file_name)\n",
    "training_data = training_data.fillna(0)\n",
    "training_data=training_data.drop(training_data[training_data.Sale_CL != 1].index)\n",
    "print(training_data)"
   ]
  },
  {
   "cell_type": "code",
   "execution_count": 41,
   "metadata": {},
   "outputs": [
    {
     "name": "stdout",
     "output_type": "stream",
     "text": [
      "     Revenue_CL\n",
      "10    30.560357\n",
      "11     8.250000\n",
      "16    14.989643\n",
      "26     5.556786\n",
      "28     4.496071\n",
      "..          ...\n",
      "955   18.535714\n",
      "956   12.500000\n",
      "958   16.142857\n",
      "959    9.821429\n",
      "960    9.214286\n",
      "\n",
      "[290 rows x 1 columns]\n"
     ]
    }
   ],
   "source": [
    "feature_cols = list(training_data.columns[1:-6])\n",
    "target_cols = list(training_data.columns[-1:])\n",
    "\n",
    "X_all = training_data[feature_cols]\n",
    "Y_all = training_data[target_cols]\n",
    "print(Y_all)"
   ]
  },
  {
   "cell_type": "code",
   "execution_count": 42,
   "metadata": {},
   "outputs": [
    {
     "name": "stdout",
     "output_type": "stream",
     "text": [
      "174\n",
      "116\n"
     ]
    }
   ],
   "source": [
    "from sklearn.model_selection import train_test_split\n",
    "3\n",
    "X_train, X_test, Y_train, Y_test = train_test_split(X_all, Y_all, test_size=0.4, random_state=42)\n",
    "print(X_train.shape[0])\n",
    "print(X_test.shape[0])"
   ]
  },
  {
   "cell_type": "code",
   "execution_count": 43,
   "metadata": {},
   "outputs": [
    {
     "name": "stdout",
     "output_type": "stream",
     "text": [
      "10.996691591047483\n"
     ]
    }
   ],
   "source": [
    "from sklearn.metrics import mean_absolute_error\n",
    "from sklearn import linear_model\n",
    "\n",
    "model = linear_model.LinearRegression()\n",
    "model.fit(X_train, Y_train)\n",
    "\n",
    "Y_predict = model.predict(X_test)\n",
    "\n",
    "mean_absolute_error = mean_absolute_error(Y_test, Y_predict)\n",
    "print(mean_absolute_error)"
   ]
  },
  {
   "cell_type": "code",
   "execution_count": 44,
   "metadata": {},
   "outputs": [
    {
     "name": "stderr",
     "output_type": "stream",
     "text": [
      "/home/syanakieva/anaconda3/lib/python3.7/site-packages/ipykernel_launcher.py:6: DataConversionWarning: A column-vector y was passed when a 1d array was expected. Please change the shape of y to (n_samples,), for example using ravel().\n",
      "  \n"
     ]
    },
    {
     "name": "stdout",
     "output_type": "stream",
     "text": [
      "[5.7059439]\n"
     ]
    }
   ],
   "source": [
    "from sklearn.ensemble import RandomForestRegressor\n",
    "from sklearn.metrics import mean_absolute_error\n",
    "import pickle\n",
    "\n",
    "model = RandomForestRegressor()\n",
    "model.fit(X_train, Y_train)\n",
    "y_true = Y_test\n",
    "y_pred = model.predict(X_test)\n",
    "\n",
    "mean_absolute_error = mean_absolute_error(y_true, y_pred, multioutput='raw_values')\n",
    "print(mean_absolute_error)\n"
   ]
  },
  {
   "cell_type": "code",
   "execution_count": 45,
   "metadata": {},
   "outputs": [
    {
     "name": "stdout",
     "output_type": "stream",
     "text": [
      "4.664995114342731\n"
     ]
    },
    {
     "name": "stderr",
     "output_type": "stream",
     "text": [
      "/home/syanakieva/anaconda3/lib/python3.7/site-packages/sklearn/utils/validation.py:63: DataConversionWarning: A column-vector y was passed when a 1d array was expected. Please change the shape of y to (n_samples, ), for example using ravel().\n",
      "  return f(*args, **kwargs)\n"
     ]
    }
   ],
   "source": [
    "from sklearn.svm import SVR\n",
    "from sklearn.metrics import mean_absolute_error\n",
    "\n",
    "model = SVR()\n",
    "model.fit(X_train, Y_train)\n",
    "\n",
    "Y_predict = model.predict(X_test)\n",
    "\n",
    "mean_absolute_error = mean_absolute_error(Y_test, Y_predict)\n",
    "print(mean_absolute_error)"
   ]
  },
  {
   "cell_type": "code",
   "execution_count": 46,
   "metadata": {},
   "outputs": [
    {
     "name": "stdout",
     "output_type": "stream",
     "text": [
      "88.58491562717352\n"
     ]
    },
    {
     "name": "stderr",
     "output_type": "stream",
     "text": [
      "/home/syanakieva/anaconda3/lib/python3.7/site-packages/sklearn/utils/validation.py:63: DataConversionWarning: A column-vector y was passed when a 1d array was expected. Please change the shape of y to (n_samples, ), for example using ravel().\n",
      "  return f(*args, **kwargs)\n",
      "/home/syanakieva/anaconda3/lib/python3.7/site-packages/sklearn/neural_network/_multilayer_perceptron.py:617: ConvergenceWarning: Stochastic Optimizer: Maximum iterations (200) reached and the optimization hasn't converged yet.\n",
      "  % self.max_iter, ConvergenceWarning)\n"
     ]
    }
   ],
   "source": [
    "from sklearn.neural_network import MLPRegressor\n",
    "from sklearn.metrics import mean_absolute_error\n",
    "\n",
    "model = MLPRegressor()\n",
    "model.fit(X_train, Y_train)\n",
    "\n",
    "Y_predict = model.predict(X_test)\n",
    "\n",
    "mean_absolute_error = mean_absolute_error(Y_test, Y_predict)\n",
    "print(mean_absolute_error)"
   ]
  },
  {
   "cell_type": "code",
   "execution_count": 47,
   "metadata": {},
   "outputs": [
    {
     "name": "stderr",
     "output_type": "stream",
     "text": [
      "/home/syanakieva/anaconda3/lib/python3.7/site-packages/sklearn/utils/validation.py:63: DataConversionWarning: A column-vector y was passed when a 1d array was expected. Please change the shape of y to (n_samples, ), for example using ravel().\n",
      "  return f(*args, **kwargs)\n",
      "/home/syanakieva/anaconda3/lib/python3.7/site-packages/sklearn/neural_network/_multilayer_perceptron.py:617: ConvergenceWarning: Stochastic Optimizer: Maximum iterations (200) reached and the optimization hasn't converged yet.\n",
      "  % self.max_iter, ConvergenceWarning)\n"
     ]
    }
   ],
   "source": [
    "from sklearn.svm import SVR\n",
    "model.fit(X_all, Y_all)\n",
    "\n",
    "filename = \"clRegressionmodel.pkl\"\n",
    "pickle.dump(model, open(filename, \"wb\"))"
   ]
  },
  {
   "cell_type": "code",
   "execution_count": null,
   "metadata": {},
   "outputs": [],
   "source": []
  }
 ],
 "metadata": {
  "kernelspec": {
   "display_name": "Python 3",
   "language": "python",
   "name": "python3"
  },
  "language_info": {
   "codemirror_mode": {
    "name": "ipython",
    "version": 3
   },
   "file_extension": ".py",
   "mimetype": "text/x-python",
   "name": "python",
   "nbconvert_exporter": "python",
   "pygments_lexer": "ipython3",
   "version": "3.7.3"
  }
 },
 "nbformat": 4,
 "nbformat_minor": 2
}
