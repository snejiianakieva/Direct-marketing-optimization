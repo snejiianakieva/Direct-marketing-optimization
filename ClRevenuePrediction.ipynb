{
 "cells": [
  {
   "cell_type": "code",
   "execution_count": 1,
   "metadata": {},
   "outputs": [
    {
     "name": "stderr",
     "output_type": "stream",
     "text": [
      "/home/syanakieva/anaconda3/lib/python3.7/site-packages/pandas/compat/_optional.py:138: UserWarning: Pandas requires version '2.7.0' or newer of 'numexpr' (version '2.6.9' currently installed).\n",
      "  warnings.warn(msg, UserWarning)\n"
     ]
    }
   ],
   "source": [
    "import pandas as pd\n",
    "from pandas import read_excel\n",
    "\n",
    "file_name = 'cl_sales_prediction.xlsx' \n",
    "target_data = read_excel(file_name)\n",
    "target_data = target_data.fillna(0)"
   ]
  },
  {
   "cell_type": "code",
   "execution_count": 2,
   "metadata": {},
   "outputs": [
    {
     "name": "stdout",
     "output_type": "stream",
     "text": [
      "     Sex  Age  Tenure  Count_CA  Count_SA  Count_MF  Count_OVD  Count_CC  \\\n",
      "0      0   24     153         1         1         0          0         1   \n",
      "1      0   54       0         1         0         0          0         0   \n",
      "2      0    4     160         1         2         4          1         0   \n",
      "3      0   71     150         1         0         0          0         0   \n",
      "4      0   20     198         1         0         0          1         0   \n",
      "..   ...  ...     ...       ...       ...       ...        ...       ...   \n",
      "351    1   70      73         3         0         0          0         0   \n",
      "352    0   11      53         1         0         0          0         1   \n",
      "353    0   49      78         1         1         0          0         0   \n",
      "354    0   19     181         1         0         0          1         0   \n",
      "355    1   44     200         1         1         0          1         0   \n",
      "\n",
      "     Count_CL     ActBal_CA  ...    VolumeDeb  VolumeDeb_CA  \\\n",
      "0           0   1599.840714  ...  3614.747500   3598.950357   \n",
      "1           0   2492.146786  ...  3587.078214   3587.078214   \n",
      "2           0     22.967143  ...   945.715000    945.715000   \n",
      "3           0  18635.575357  ...   635.842857    635.842857   \n",
      "4           0    194.955714  ...   948.910714    948.910714   \n",
      "..        ...           ...  ...          ...           ...   \n",
      "351         0     71.618214  ...     4.107143      4.107143   \n",
      "352         0    356.669643  ...  5647.542857   2055.042857   \n",
      "353         0     69.169286  ...     1.964286      1.964286   \n",
      "354         0   5844.956071  ...  1198.223929   1031.736786   \n",
      "355         0    243.631071  ...  3235.036071   1610.471429   \n",
      "\n",
      "     VolumeDebCash_Card  VolumeDebCashless_Card  VolumeDeb_PaymentOrder  \\\n",
      "0            714.285714              526.037500             1963.165357   \n",
      "1           1392.682143              466.840000             1273.107143   \n",
      "2            107.142857              529.379286              309.192857   \n",
      "3            139.285714               56.735714              436.428571   \n",
      "4            310.714286              523.910714              107.142857   \n",
      "..                  ...                     ...                     ...   \n",
      "351            0.000000                0.000000                0.000000   \n",
      "352            0.000000                0.000000             1803.571429   \n",
      "353            0.000000                0.000000                0.000000   \n",
      "354          225.000000              220.058571               85.036786   \n",
      "355          464.285714              142.982857               71.428571   \n",
      "\n",
      "     TransactionsDeb  TransactionsDeb_CA  TransactionsDebCash_Card  \\\n",
      "0                 41                  36                         6   \n",
      "1                 29                  29                         4   \n",
      "2                 33                  33                         1   \n",
      "3                 13                  13                         2   \n",
      "4                 18                  18                         6   \n",
      "..               ...                 ...                       ...   \n",
      "351                1                   1                         0   \n",
      "352               12                   5                         0   \n",
      "353                1                   1                         0   \n",
      "354               23                  17                         3   \n",
      "355               14                  11                         2   \n",
      "\n",
      "     TransactionsDebCashless_Card  TransactionsDeb_PaymentOrder  \n",
      "0                              12                            13  \n",
      "1                              12                             9  \n",
      "2                              26                             6  \n",
      "3                               4                             6  \n",
      "4                               7                             1  \n",
      "..                            ...                           ...  \n",
      "351                             0                             0  \n",
      "352                             0                             2  \n",
      "353                             0                             0  \n",
      "354                             6                             4  \n",
      "355                             2                             1  \n",
      "\n",
      "[356 rows x 29 columns]\n"
     ]
    }
   ],
   "source": [
    "feature_cols = list(target_data.columns[1:-1])\n",
    "\n",
    "X_all = target_data[feature_cols]\n",
    "print(X_all)"
   ]
  },
  {
   "cell_type": "code",
   "execution_count": 3,
   "metadata": {},
   "outputs": [
    {
     "name": "stdout",
     "output_type": "stream",
     "text": [
      "356\n",
      "     Client  cl_revenue_prediction\n",
      "0         4              10.704507\n",
      "1        22              10.746098\n",
      "2        23              10.246091\n",
      "3        33              11.457408\n",
      "4        41              10.671804\n",
      "..      ...                    ...\n",
      "351    1592              10.671496\n",
      "352    1595              10.700286\n",
      "353    1596              10.460363\n",
      "354    1597              10.884356\n",
      "355    1600              10.479310\n",
      "\n",
      "[356 rows x 2 columns]\n"
     ]
    }
   ],
   "source": [
    "from sklearn.svm import SVR\n",
    "import pickle\n",
    "\n",
    "clmodel = pickle.load(open('clRegressionmodel.pkl', 'rb'))\n",
    "\n",
    "prediction = clmodel.predict(X_all)\n",
    "result = target_data.copy()\n",
    "result[\"cl_revenue_prediction\"] = prediction\n",
    "result=result[[\"Client\", \"cl_revenue_prediction\"]]\n",
    "print(result.shape[0])\n",
    "print(result[:1000])\n",
    "result = result.sort_values(\"cl_revenue_prediction\", ascending=False)\n",
    "result.to_excel(\"cl_revenue_prediction.xlsx\", index=False)"
   ]
  },
  {
   "cell_type": "code",
   "execution_count": null,
   "metadata": {},
   "outputs": [],
   "source": []
  }
 ],
 "metadata": {
  "kernelspec": {
   "display_name": "Python 3",
   "language": "python",
   "name": "python3"
  },
  "language_info": {
   "codemirror_mode": {
    "name": "ipython",
    "version": 3
   },
   "file_extension": ".py",
   "mimetype": "text/x-python",
   "name": "python",
   "nbconvert_exporter": "python",
   "pygments_lexer": "ipython3",
   "version": "3.7.3"
  }
 },
 "nbformat": 4,
 "nbformat_minor": 2
}
