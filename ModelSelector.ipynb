{
 "cells": [
  {
   "cell_type": "code",
   "execution_count": 6,
   "metadata": {},
   "outputs": [
    {
     "name": "stdout",
     "output_type": "stream",
     "text": [
      "Requirement already satisfied: cycler==0.10.0 in /home/syanakieva/anaconda3/lib/python3.7/site-packages (from -r requirements.txt (line 7)) (0.10.0)\n",
      "Collecting kiwisolver==1.2.0 (from -r requirements.txt (line 8))\n",
      "\u001b[?25l  Downloading https://files.pythonhosted.org/packages/31/b9/6202dcae729998a0ade30e80ac00f616542ef445b088ec970d407dfd41c0/kiwisolver-1.2.0-cp37-cp37m-manylinux1_x86_64.whl (88kB)\n",
      "\u001b[K    100% |████████████████████████████████| 92kB 2.2MB/s ta 0:00:01\n",
      "\u001b[?25hCollecting matplotlib==3.2.1 (from -r requirements.txt (line 9))\n",
      "\u001b[?25l  Downloading https://files.pythonhosted.org/packages/b2/c2/71fcf957710f3ba1f09088b35776a799ba7dd95f7c2b195ec800933b276b/matplotlib-3.2.1-cp37-cp37m-manylinux1_x86_64.whl (12.4MB)\n",
      "\u001b[K    100% |████████████████████████████████| 12.4MB 1.9MB/s ta 0:00:011   61% |███████████████████▊            | 7.6MB 33.0MB/s eta 0:00:01    78% |█████████████████████████       | 9.7MB 9.5MB/s eta 0:00:01\n",
      "\u001b[?25hCollecting numpy==1.18.5 (from -r requirements.txt (line 10))\n",
      "\u001b[?25l  Downloading https://files.pythonhosted.org/packages/d6/c6/58e517e8b1fb192725cfa23c01c2e60e4e6699314ee9684a1c5f5c9b27e1/numpy-1.18.5-cp37-cp37m-manylinux1_x86_64.whl (20.1MB)\n",
      "\u001b[K    100% |████████████████████████████████| 20.1MB 873kB/s ta 0:00:011   39% |████████████▋                   | 7.9MB 2.4MB/s eta 0:00:06\n",
      "\u001b[?25hCollecting pandas>=1.0.4 (from -r requirements.txt (line 11))\n",
      "\u001b[?25l  Downloading https://files.pythonhosted.org/packages/99/f7/01cea7f6c963100f045876eb4aa1817069c5c9eca73d2dbfb5d31ff9a39f/pandas-1.3.0-cp37-cp37m-manylinux_2_5_x86_64.manylinux1_x86_64.whl (10.8MB)\n",
      "\u001b[K    100% |████████████████████████████████| 10.8MB 2.2MB/s ta 0:00:011\n",
      "\u001b[?25hCollecting pyparsing==2.4.7 (from -r requirements.txt (line 12))\n",
      "  Using cached https://files.pythonhosted.org/packages/8a/bb/488841f56197b13700afd5658fc279a2025a39e22449b7cf29864669b15d/pyparsing-2.4.7-py2.py3-none-any.whl\n",
      "Collecting python-dateutil==2.8.1 (from -r requirements.txt (line 13))\n",
      "  Using cached https://files.pythonhosted.org/packages/d4/70/d60450c3dd48ef87586924207ae8907090de0b306af2bce5d134d78615cb/python_dateutil-2.8.1-py2.py3-none-any.whl\n",
      "Collecting pytz==2020.1 (from -r requirements.txt (line 14))\n",
      "  Using cached https://files.pythonhosted.org/packages/4f/a4/879454d49688e2fad93e59d7d4efda580b783c745fd2ec2a3adf87b0808d/pytz-2020.1-py2.py3-none-any.whl\n",
      "Collecting scipy==1.4.1 (from -r requirements.txt (line 15))\n",
      "\u001b[?25l  Downloading https://files.pythonhosted.org/packages/dd/82/c1fe128f3526b128cfd185580ba40d01371c5d299fcf7f77968e22dfcc2e/scipy-1.4.1-cp37-cp37m-manylinux1_x86_64.whl (26.1MB)\n",
      "\u001b[K    100% |████████████████████████████████| 26.1MB 1.1MB/s ta 0:00:011   29% |█████████▍                      | 7.7MB 7.7MB/s eta 0:00:03\n",
      "\u001b[?25hCollecting seaborn==0.10.1 (from -r requirements.txt (line 16))\n",
      "  Using cached https://files.pythonhosted.org/packages/c7/e6/54aaaafd0b87f51dfba92ba73da94151aa3bc179e5fe88fc5dfb3038e860/seaborn-0.10.1-py3-none-any.whl\n",
      "Collecting six==1.15.0 (from -r requirements.txt (line 17))\n",
      "  Using cached https://files.pythonhosted.org/packages/ee/ff/48bde5c0f013094d729fe4b0316ba2a24774b3ff1c52d924a8a4cb04078a/six-1.15.0-py2.py3-none-any.whl\n",
      "Collecting openpyxl==3.0.7 (from -r requirements.txt (line 18))\n",
      "  Using cached https://files.pythonhosted.org/packages/39/08/595298c9b7ced75e7d23be3e7596459980d63bc35112ca765ceccafbe9a4/openpyxl-3.0.7-py2.py3-none-any.whl\n",
      "Collecting scikit-learn==0.24.2 (from -r requirements.txt (line 19))\n",
      "\u001b[?25l  Downloading https://files.pythonhosted.org/packages/a8/eb/a48f25c967526b66d5f1fa7a984594f0bf0a5afafa94a8c4dbc317744620/scikit_learn-0.24.2-cp37-cp37m-manylinux2010_x86_64.whl (22.3MB)\n",
      "\u001b[K    100% |████████████████████████████████| 22.3MB 178kB/s eta 0:00:01   19% |██████                          | 4.2MB 6.1MB/s eta 0:00:03    84% |███████████████████████████     | 18.8MB 4.0MB/s eta 0:00:01    94% |██████████████████████████████▍ | 21.1MB 3.5MB/s eta 0:00:01\n",
      "\u001b[?25hCollecting joblib==1.0.1 (from -r requirements.txt (line 20))\n",
      "  Using cached https://files.pythonhosted.org/packages/55/85/70c6602b078bd9e6f3da4f467047e906525c355a4dacd4f71b97a35d9897/joblib-1.0.1-py3-none-any.whl\n",
      "Requirement already satisfied: et-xmlfile in /home/syanakieva/anaconda3/lib/python3.7/site-packages (from openpyxl==3.0.7->-r requirements.txt (line 18)) (1.0.1)\n",
      "Collecting threadpoolctl>=2.0.0 (from scikit-learn==0.24.2->-r requirements.txt (line 19))\n",
      "  Using cached https://files.pythonhosted.org/packages/f7/12/ec3f2e203afa394a149911729357aa48affc59c20e2c1c8297a60f33f133/threadpoolctl-2.1.0-py3-none-any.whl\n",
      "\u001b[31mtables 3.5.1 requires mock>=2.0, which is not installed.\u001b[0m\n",
      "\u001b[31mastroid 2.2.5 requires typed-ast>=1.3.0; implementation_name == \"cpython\", which is not installed.\u001b[0m\n",
      "Installing collected packages: kiwisolver, pyparsing, six, python-dateutil, numpy, matplotlib, pytz, pandas, scipy, seaborn, openpyxl, joblib, threadpoolctl, scikit-learn\n",
      "  Found existing installation: kiwisolver 1.0.1\n",
      "    Uninstalling kiwisolver-1.0.1:\n",
      "      Successfully uninstalled kiwisolver-1.0.1\n",
      "  Found existing installation: pyparsing 2.3.1\n",
      "    Uninstalling pyparsing-2.3.1:\n",
      "      Successfully uninstalled pyparsing-2.3.1\n",
      "  Found existing installation: six 1.12.0\n",
      "    Uninstalling six-1.12.0:\n",
      "      Successfully uninstalled six-1.12.0\n",
      "  Found existing installation: python-dateutil 2.8.0\n",
      "    Uninstalling python-dateutil-2.8.0:\n",
      "      Successfully uninstalled python-dateutil-2.8.0\n",
      "  Found existing installation: numpy 1.16.2\n",
      "    Uninstalling numpy-1.16.2:\n",
      "      Successfully uninstalled numpy-1.16.2\n",
      "  Found existing installation: matplotlib 3.0.3\n",
      "    Uninstalling matplotlib-3.0.3:\n",
      "      Successfully uninstalled matplotlib-3.0.3\n",
      "  Found existing installation: pytz 2018.9\n",
      "    Uninstalling pytz-2018.9:\n",
      "      Successfully uninstalled pytz-2018.9\n",
      "  Found existing installation: pandas 0.24.2\n",
      "    Uninstalling pandas-0.24.2:\n",
      "      Successfully uninstalled pandas-0.24.2\n",
      "  Found existing installation: scipy 1.2.1\n",
      "    Uninstalling scipy-1.2.1:\n",
      "      Successfully uninstalled scipy-1.2.1\n",
      "  Found existing installation: seaborn 0.9.0\n",
      "    Uninstalling seaborn-0.9.0:\n",
      "      Successfully uninstalled seaborn-0.9.0\n",
      "  Found existing installation: openpyxl 2.6.1\n",
      "    Uninstalling openpyxl-2.6.1:\n",
      "      Successfully uninstalled openpyxl-2.6.1\n",
      "  Found existing installation: scikit-learn 0.20.3\n",
      "    Uninstalling scikit-learn-0.20.3:\n",
      "      Successfully uninstalled scikit-learn-0.20.3\n",
      "Successfully installed joblib-1.0.1 kiwisolver-1.2.0 matplotlib-3.2.1 numpy-1.18.5 openpyxl-3.0.7 pandas-1.3.0 pyparsing-2.4.7 python-dateutil-2.8.1 pytz-2020.1 scikit-learn-0.24.2 scipy-1.4.1 seaborn-0.10.1 six-1.15.0 threadpoolctl-2.1.0\n",
      "Note: you may need to restart the kernel to use updated packages.\n"
     ]
    }
   ],
   "source": [
    "pip install -r requirements.txt"
   ]
  },
  {
   "cell_type": "code",
   "execution_count": 2,
   "metadata": {},
   "outputs": [
    {
     "name": "stderr",
     "output_type": "stream",
     "text": [
      "/home/syanakieva/anaconda3/lib/python3.7/site-packages/pandas/compat/_optional.py:138: UserWarning: Pandas requires version '2.7.0' or newer of 'numexpr' (version '2.6.9' currently installed).\n",
      "  warnings.warn(msg, UserWarning)\n"
     ]
    }
   ],
   "source": [
    "import pandas as pd\n",
    "from pandas import read_excel\n",
    "\n",
    "file_name = 'training_data.xlsx' \n",
    "training_data = read_excel(file_name)\n",
    "training_data = training_data.fillna(0)"
   ]
  },
  {
   "cell_type": "code",
   "execution_count": 3,
   "metadata": {},
   "outputs": [
    {
     "name": "stdout",
     "output_type": "stream",
     "text": [
      "     Sale_MF\n",
      "0          1\n",
      "1          0\n",
      "2          0\n",
      "3          0\n",
      "4          0\n",
      "..       ...\n",
      "964        0\n",
      "965        0\n",
      "966        0\n",
      "967        1\n",
      "968        0\n",
      "\n",
      "[969 rows x 1 columns]\n"
     ]
    }
   ],
   "source": [
    "feature_cols = list(training_data.columns[:-6])\n",
    "target_cols = list(training_data.columns[-6:-5])\n",
    "\n",
    "X_all = training_data[feature_cols]\n",
    "Y_all = training_data[target_cols]\n",
    "print(Y_all)"
   ]
  },
  {
   "cell_type": "code",
   "execution_count": 4,
   "metadata": {},
   "outputs": [
    {
     "name": "stdout",
     "output_type": "stream",
     "text": [
      "581\n",
      "388\n"
     ]
    }
   ],
   "source": [
    "from sklearn.model_selection import train_test_split\n",
    "3\n",
    "X_train, X_test, Y_train, Y_test = train_test_split(X_all, Y_all, test_size=0.4, random_state=42)\n",
    "print(X_train.shape[0])\n",
    "print(X_test.shape[0])"
   ]
  },
  {
   "cell_type": "code",
   "execution_count": 5,
   "metadata": {},
   "outputs": [
    {
     "name": "stdout",
     "output_type": "stream",
     "text": [
      "0.6829896907216495\n"
     ]
    }
   ],
   "source": [
    "from sklearn.tree import DecisionTreeClassifier\n",
    "from sklearn.metrics import accuracy_score\n",
    "\n",
    "model = DecisionTreeClassifier(random_state=42)\n",
    "model.fit(X_train, Y_train)\n",
    "\n",
    "Y_predict = model.predict(X_test)\n",
    "\n",
    "accuracy_score = accuracy_score(Y_test, Y_predict)\n",
    "print(accuracy_score)"
   ]
  },
  {
   "cell_type": "code",
   "execution_count": 6,
   "metadata": {},
   "outputs": [
    {
     "name": "stderr",
     "output_type": "stream",
     "text": [
      "/home/syanakieva/anaconda3/lib/python3.7/site-packages/ipykernel_launcher.py:6: DataConversionWarning: A column-vector y was passed when a 1d array was expected. Please change the shape of y to (n_samples,), for example using ravel().\n",
      "  \n"
     ]
    },
    {
     "name": "stdout",
     "output_type": "stream",
     "text": [
      "0.7783505154639175\n"
     ]
    }
   ],
   "source": [
    "from sklearn.ensemble import RandomForestClassifier\n",
    "from sklearn.metrics import accuracy_score\n",
    "import pickle\n",
    "\n",
    "model = RandomForestClassifier()\n",
    "model.fit(X_train, Y_train)\n",
    "\n",
    "Y_predict = model.predict(X_test)\n",
    "\n",
    "accuracy_score = accuracy_score(Y_test, Y_predict)\n",
    "print(accuracy_score)\n",
    "filename = \"mfmodel.pkl\"\n",
    "pickle.dump(model, open(filename, \"wb\"))"
   ]
  },
  {
   "cell_type": "code",
   "execution_count": 7,
   "metadata": {},
   "outputs": [
    {
     "name": "stdout",
     "output_type": "stream",
     "text": [
      "0.7551546391752577\n"
     ]
    },
    {
     "name": "stderr",
     "output_type": "stream",
     "text": [
      "/home/syanakieva/anaconda3/lib/python3.7/site-packages/ipykernel_launcher.py:5: DataConversionWarning: A column-vector y was passed when a 1d array was expected. Please change the shape of y to (n_samples, ), for example using ravel().\n",
      "  \"\"\"\n"
     ]
    }
   ],
   "source": [
    "from sklearn.neighbors import KNeighborsClassifier\n",
    "from sklearn.metrics import accuracy_score\n",
    "\n",
    "model = KNeighborsClassifier()\n",
    "model.fit(X_train, Y_train)\n",
    "\n",
    "Y_predict = model.predict(X_test)\n",
    "\n",
    "accuracy_score = accuracy_score(Y_test, Y_predict)\n",
    "print(accuracy_score)"
   ]
  },
  {
   "cell_type": "code",
   "execution_count": 8,
   "metadata": {},
   "outputs": [
    {
     "name": "stderr",
     "output_type": "stream",
     "text": [
      "/home/syanakieva/anaconda3/lib/python3.7/site-packages/sklearn/neural_network/multilayer_perceptron.py:916: DataConversionWarning: A column-vector y was passed when a 1d array was expected. Please change the shape of y to (n_samples, ), for example using ravel().\n",
      "  y = column_or_1d(y, warn=True)\n"
     ]
    },
    {
     "name": "stdout",
     "output_type": "stream",
     "text": [
      "0.711340206185567\n"
     ]
    }
   ],
   "source": [
    "from sklearn.neural_network import MLPClassifier\n",
    "from sklearn.metrics import accuracy_score\n",
    "\n",
    "model = MLPClassifier()\n",
    "model.fit(X_train, Y_train)\n",
    "\n",
    "Y_predict = model.predict(X_test)\n",
    "\n",
    "accuracy_score = accuracy_score(Y_test, Y_predict)\n",
    "print(accuracy_score)"
   ]
  },
  {
   "cell_type": "code",
   "execution_count": 9,
   "metadata": {},
   "outputs": [
    {
     "name": "stdout",
     "output_type": "stream",
     "text": [
      "0.7757731958762887\n"
     ]
    },
    {
     "name": "stderr",
     "output_type": "stream",
     "text": [
      "/home/syanakieva/anaconda3/lib/python3.7/site-packages/sklearn/utils/validation.py:761: DataConversionWarning: A column-vector y was passed when a 1d array was expected. Please change the shape of y to (n_samples, ), for example using ravel().\n",
      "  y = column_or_1d(y, warn=True)\n",
      "/home/syanakieva/anaconda3/lib/python3.7/site-packages/sklearn/svm/base.py:196: FutureWarning: The default value of gamma will change from 'auto' to 'scale' in version 0.22 to account better for unscaled features. Set gamma explicitly to 'auto' or 'scale' to avoid this warning.\n",
      "  \"avoid this warning.\", FutureWarning)\n"
     ]
    }
   ],
   "source": [
    "from sklearn.svm import SVC\n",
    "from sklearn.metrics import accuracy_score\n",
    "\n",
    "model = SVC()\n",
    "model.fit(X_train, Y_train)\n",
    "\n",
    "Y_predict = model.predict(X_test)\n",
    "\n",
    "accuracy_score = accuracy_score(Y_test, Y_predict)\n",
    "print(accuracy_score)"
   ]
  },
  {
   "cell_type": "code",
   "execution_count": null,
   "metadata": {},
   "outputs": [],
   "source": []
  }
 ],
 "metadata": {
  "kernelspec": {
   "display_name": "Python 3",
   "language": "python",
   "name": "python3"
  }
 },
 "nbformat": 4,
 "nbformat_minor": 2
}
