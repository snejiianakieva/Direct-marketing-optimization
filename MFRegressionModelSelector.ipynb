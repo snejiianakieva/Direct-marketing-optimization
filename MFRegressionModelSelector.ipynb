{
 "cells": [
  {
   "cell_type": "code",
   "execution_count": 1,
   "metadata": {},
   "outputs": [
    {
     "name": "stderr",
     "output_type": "stream",
     "text": [
      "/home/syanakieva/anaconda3/lib/python3.7/site-packages/pandas/compat/_optional.py:138: UserWarning: Pandas requires version '2.7.0' or newer of 'numexpr' (version '2.6.9' currently installed).\n",
      "  warnings.warn(msg, UserWarning)\n"
     ]
    },
    {
     "name": "stdout",
     "output_type": "stream",
     "text": [
      "     Client  Sex  Age  Tenure  Count_CA  Count_SA  Count_MF  Count_OVD  \\\n",
      "0         1  1.0   51       7         1       0.0       0.0        1.0   \n",
      "13       27  0.0   62     181         1       0.0       0.0        1.0   \n",
      "17       34  1.0   48     104         1       1.0       3.0        1.0   \n",
      "19       36  1.0   49     263         1       1.0       2.0        0.0   \n",
      "23       42  0.0   23       4         1       0.0      12.0        0.0   \n",
      "..      ...  ...  ...     ...       ...       ...       ...        ...   \n",
      "926    1552  0.0   50      89         1       0.0       0.0        0.0   \n",
      "935    1564  1.0   29     175         1       0.0       0.0        1.0   \n",
      "940    1571  0.0   39     211         1       0.0       0.0        0.0   \n",
      "953    1585  1.0   28     221         1       0.0       0.0        0.0   \n",
      "967    1613  0.0   46      45         1       0.0       0.0        0.0   \n",
      "\n",
      "     Count_CC  Count_CL  ...  TransactionsDeb_CA  TransactionsDebCash_Card  \\\n",
      "0         0.0       0.0  ...                30.0                       3.0   \n",
      "13        0.0       0.0  ...                 1.0                       0.0   \n",
      "17        1.0       0.0  ...                19.0                       6.0   \n",
      "19        0.0       0.0  ...                 0.0                       0.0   \n",
      "23        0.0       0.0  ...                 9.0                       1.0   \n",
      "..        ...       ...  ...                 ...                       ...   \n",
      "926       0.0       0.0  ...                 9.0                       0.0   \n",
      "935       0.0       0.0  ...                27.0                       6.0   \n",
      "940       0.0       0.0  ...                 2.0                       0.0   \n",
      "953       0.0       0.0  ...                 0.0                       0.0   \n",
      "967       0.0       0.0  ...                25.0                       2.0   \n",
      "\n",
      "     TransactionsDebCashless_Card  TransactionsDeb_PaymentOrder  Sale_MF  \\\n",
      "0                            12.0                           9.0        1   \n",
      "13                            0.0                           0.0        1   \n",
      "17                           33.0                          11.0        1   \n",
      "19                            0.0                           0.0        1   \n",
      "23                            1.0                           6.0        1   \n",
      "..                            ...                           ...      ...   \n",
      "926                           4.0                           4.0        1   \n",
      "935                          14.0                           1.0        1   \n",
      "940                           0.0                           0.0        1   \n",
      "953                           0.0                           0.0        1   \n",
      "967                          12.0                           8.0        1   \n",
      "\n",
      "     Sale_CC  Sale_CL  Revenue_MF  Revenue_CC  Revenue_CL  \n",
      "0          0        0   26.972679    0.000000    0.000000  \n",
      "13         0        0  220.488214    0.000000    0.000000  \n",
      "17         0        0    0.601071    0.000000    0.000000  \n",
      "19         0        0    0.238036    0.000000    0.000000  \n",
      "23         0        0   15.275714    0.000000    0.000000  \n",
      "..       ...      ...         ...         ...         ...  \n",
      "926        0        0    6.901071    0.000000    0.000000  \n",
      "935        0        1    9.290179    0.000000    6.928571  \n",
      "940        1        0    3.453750    4.571429    0.000000  \n",
      "953        0        1    3.410893    0.000000   16.547857  \n",
      "967        0        0    2.088571    0.000000    0.000000  \n",
      "\n",
      "[193 rows x 36 columns]\n"
     ]
    }
   ],
   "source": [
    "import pandas as pd\n",
    "from pandas import read_excel\n",
    "\n",
    "file_name = 'training_data.xlsx' \n",
    "training_data = read_excel(file_name)\n",
    "training_data = training_data.fillna(0)\n",
    "training_data=training_data.drop(training_data[training_data.Sale_MF != 1].index)\n",
    "print(training_data)"
   ]
  },
  {
   "cell_type": "code",
   "execution_count": 3,
   "metadata": {},
   "outputs": [
    {
     "name": "stdout",
     "output_type": "stream",
     "text": [
      "     Revenue_MF\n",
      "0     26.972679\n",
      "13   220.488214\n",
      "17     0.601071\n",
      "19     0.238036\n",
      "23    15.275714\n",
      "..          ...\n",
      "926    6.901071\n",
      "935    9.290179\n",
      "940    3.453750\n",
      "953    3.410893\n",
      "967    2.088571\n",
      "\n",
      "[193 rows x 1 columns]\n"
     ]
    }
   ],
   "source": [
    "feature_cols = list(training_data.columns[1:-6])\n",
    "target_cols = list(training_data.columns[-3:-2])\n",
    "\n",
    "X_all = training_data[feature_cols]\n",
    "Y_all = training_data[target_cols]\n",
    "print(Y_all)"
   ]
  },
  {
   "cell_type": "code",
   "execution_count": 4,
   "metadata": {},
   "outputs": [
    {
     "name": "stdout",
     "output_type": "stream",
     "text": [
      "115\n",
      "78\n"
     ]
    }
   ],
   "source": [
    "from sklearn.model_selection import train_test_split\n",
    "3\n",
    "X_train, X_test, Y_train, Y_test = train_test_split(X_all, Y_all, test_size=0.4, random_state=42)\n",
    "print(X_train.shape[0])\n",
    "print(X_test.shape[0])"
   ]
  },
  {
   "cell_type": "code",
   "execution_count": 5,
   "metadata": {},
   "outputs": [
    {
     "name": "stdout",
     "output_type": "stream",
     "text": [
      "16.950388490804844\n"
     ]
    }
   ],
   "source": [
    "from sklearn.metrics import mean_absolute_error\n",
    "from sklearn import linear_model\n",
    "\n",
    "model = linear_model.LinearRegression()\n",
    "model.fit(X_train, Y_train)\n",
    "\n",
    "Y_predict = model.predict(X_test)\n",
    "\n",
    "mean_absolute_error = mean_absolute_error(Y_test, Y_predict)\n",
    "print(mean_absolute_error)"
   ]
  },
  {
   "cell_type": "code",
   "execution_count": 6,
   "metadata": {},
   "outputs": [
    {
     "name": "stdout",
     "output_type": "stream",
     "text": [
      "[9.95974485]\n"
     ]
    },
    {
     "name": "stderr",
     "output_type": "stream",
     "text": [
      "/home/syanakieva/anaconda3/lib/python3.7/site-packages/ipykernel_launcher.py:6: DataConversionWarning: A column-vector y was passed when a 1d array was expected. Please change the shape of y to (n_samples,), for example using ravel().\n",
      "  \n"
     ]
    }
   ],
   "source": [
    "from sklearn.ensemble import RandomForestRegressor\n",
    "from sklearn.metrics import mean_absolute_error\n",
    "import pickle\n",
    "\n",
    "model = RandomForestRegressor()\n",
    "model.fit(X_train, Y_train)\n",
    "y_true = Y_test\n",
    "y_pred = model.predict(X_test)\n",
    "\n",
    "mean_absolute_error = mean_absolute_error(y_true, y_pred, multioutput='raw_values')\n",
    "print(mean_absolute_error)\n"
   ]
  },
  {
   "cell_type": "code",
   "execution_count": 7,
   "metadata": {},
   "outputs": [
    {
     "name": "stdout",
     "output_type": "stream",
     "text": [
      "6.968451940827915\n"
     ]
    },
    {
     "name": "stderr",
     "output_type": "stream",
     "text": [
      "/home/syanakieva/anaconda3/lib/python3.7/site-packages/sklearn/utils/validation.py:63: DataConversionWarning: A column-vector y was passed when a 1d array was expected. Please change the shape of y to (n_samples, ), for example using ravel().\n",
      "  return f(*args, **kwargs)\n"
     ]
    }
   ],
   "source": [
    "from sklearn.svm import SVR\n",
    "from sklearn.metrics import mean_absolute_error\n",
    "\n",
    "model = SVR()\n",
    "model.fit(X_train, Y_train)\n",
    "\n",
    "Y_predict = model.predict(X_test)\n",
    "\n",
    "mean_absolute_error = mean_absolute_error(Y_test, Y_predict)\n",
    "print(mean_absolute_error)"
   ]
  },
  {
   "cell_type": "code",
   "execution_count": 11,
   "metadata": {},
   "outputs": [
    {
     "name": "stdout",
     "output_type": "stream",
     "text": [
      "60.1100565453646\n"
     ]
    },
    {
     "name": "stderr",
     "output_type": "stream",
     "text": [
      "/home/syanakieva/anaconda3/lib/python3.7/site-packages/sklearn/utils/validation.py:63: DataConversionWarning: A column-vector y was passed when a 1d array was expected. Please change the shape of y to (n_samples, ), for example using ravel().\n",
      "  return f(*args, **kwargs)\n",
      "/home/syanakieva/anaconda3/lib/python3.7/site-packages/sklearn/neural_network/_multilayer_perceptron.py:617: ConvergenceWarning: Stochastic Optimizer: Maximum iterations (200) reached and the optimization hasn't converged yet.\n",
      "  % self.max_iter, ConvergenceWarning)\n"
     ]
    }
   ],
   "source": [
    "from sklearn.neural_network import MLPRegressor\n",
    "from sklearn.metrics import mean_absolute_error\n",
    "\n",
    "model = MLPRegressor()\n",
    "model.fit(X_train, Y_train)\n",
    "\n",
    "Y_predict = model.predict(X_test)\n",
    "\n",
    "mean_absolute_error = mean_absolute_error(Y_test, Y_predict)\n",
    "print(mean_absolute_error)"
   ]
  },
  {
   "cell_type": "code",
   "execution_count": 12,
   "metadata": {},
   "outputs": [
    {
     "name": "stderr",
     "output_type": "stream",
     "text": [
      "/home/syanakieva/anaconda3/lib/python3.7/site-packages/sklearn/utils/validation.py:63: DataConversionWarning: A column-vector y was passed when a 1d array was expected. Please change the shape of y to (n_samples, ), for example using ravel().\n",
      "  return f(*args, **kwargs)\n"
     ]
    }
   ],
   "source": [
    "from sklearn.svm import SVR\n",
    "model = SVR()\n",
    "model.fit(X_all, Y_all)\n",
    "\n",
    "filename = \"mfRegressionmodel.pkl\"\n",
    "pickle.dump(model, open(filename, \"wb\"))"
   ]
  },
  {
   "cell_type": "code",
   "execution_count": null,
   "metadata": {},
   "outputs": [],
   "source": []
  }
 ],
 "metadata": {
  "kernelspec": {
   "display_name": "Python 3",
   "language": "python",
   "name": "python3"
  },
  "language_info": {
   "codemirror_mode": {
    "name": "ipython",
    "version": 3
   },
   "file_extension": ".py",
   "mimetype": "text/x-python",
   "name": "python",
   "nbconvert_exporter": "python",
   "pygments_lexer": "ipython3",
   "version": "3.7.3"
  }
 },
 "nbformat": 4,
 "nbformat_minor": 2
}
